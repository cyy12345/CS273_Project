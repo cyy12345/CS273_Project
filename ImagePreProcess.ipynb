{
 "cells": [
  {
   "cell_type": "code",
   "execution_count": 31,
   "metadata": {},
   "outputs": [
    {
     "name": "stdout",
     "output_type": "stream",
     "text": [
      "finished\n"
     ]
    }
   ],
   "source": [
    "from PIL import Image\n",
    "import numpy as np\n",
    "import os\n",
    "import csv\n",
    "import matplotlib.pyplot as plt\n",
    "\n",
    "\n",
    "tmp = np.loadtxt(\"/Users/shao/Desktop/facial_expressions-master/data/legend.csv\", dtype=np.str, delimiter=\",\")\n",
    "data = tmp[1:,1].astype(np.str)#加载数据部分\n",
    "label = tmp[1:,-1].astype(np.str)#加载类别标签部分\n",
    "\n",
    "for i in label:\n",
    "    i=i.lower()\n",
    "\n",
    "imageList=[]\n",
    "for i in range(13690):\n",
    "    #str='/Users/shao/Desktop/facial_expressions-master/images/'+data[i]\n",
    "    for filename in os.listdir(r\"/Users/shao/Desktop/facial_expressions-master/images/\"):\n",
    "        if filename==data[i]:\n",
    "            im = Image.open('/Users/shao/Desktop/facial_expressions-master/images/'+filename)\n",
    "            im=im.resize((30,30))\n",
    "            iml = im.convert('L')\n",
    "            im_array = np.array(iml)\n",
    "            \n",
    "            im_array=np.reshape(im_array,(900,))\n",
    "            if label[i].lower()=='anger': label[i]=0\n",
    "            if label[i].lower()=='surprise': label[i]=1\n",
    "            if label[i].lower()=='disgust': label[i]=2\n",
    "            if label[i].lower()=='fear': label[i]=3\n",
    "            if label[i].lower()=='neutral': label[i]=4\n",
    "            if label[i].lower()=='happiness': label[i]=5            \n",
    "            im_array=np.append(im_array,label[i])\n",
    "            imageList.append(im_array)\n",
    "        \n",
    "print(\"finished\")"
   ]
  },
  {
   "cell_type": "code",
   "execution_count": 33,
   "metadata": {},
   "outputs": [
    {
     "name": "stdout",
     "output_type": "stream",
     "text": [
      "(13689, 901)\n",
      "4\n"
     ]
    }
   ],
   "source": [
    "imageList=np.array(imageList)\n",
    "print(imageList.shape)\n",
    "print(imageList[20,900])"
   ]
  },
  {
   "cell_type": "code",
   "execution_count": 35,
   "metadata": {},
   "outputs": [],
   "source": [
    "np.savetxt('/Users/shao/Desktop/facial_expressions-master/imageTxt/wholeFaces.txt',imageList,fmt=\"%s\")"
   ]
  },
  {
   "cell_type": "code",
   "execution_count": 37,
   "metadata": {},
   "outputs": [
    {
     "name": "stdout",
     "output_type": "stream",
     "text": [
      "[197. 195. 196. 198. 198. 198. 199. 198. 195. 200.  66.  41.  42.  46.\n",
      "  46.  38.  46.  26.  38.  43. 189. 187. 193. 193. 192. 190. 192. 192.\n",
      " 191. 190. 197. 195. 197. 197. 198. 199. 194.  97.  42.  47.  31.  34.\n",
      "  35.  39.  38.  45.  48.  50.  37.  37.  30.  41. 157. 193. 192. 194.\n",
      " 192. 194. 189. 191. 199. 198. 196. 197. 197. 149.  43.  38.  40.  38.\n",
      "  41.  50.  41.  33.  40.  64.  46.  41.  44.  44.  42.  44.  47.  41.\n",
      " 184. 192. 193. 193. 193. 192. 203. 201. 197. 196.  91.  49.  41.  44.\n",
      "  40.  34.  53.  39.  43.  37.  55.  40.  49.  45.  64.  45.  33.  49.\n",
      "  40.  43.  37. 123. 192. 193. 191. 194. 203. 204. 198.  76.  31.  39.\n",
      "  40.  66.  93. 109. 134. 123. 129. 140. 110.  82.  71. 112. 124. 126.\n",
      "  88.  91.  48.  32.  46.  34. 148. 192. 195. 192. 204. 203. 167.  39.\n",
      "  38.  41.  54. 100. 121. 107. 127. 141. 130. 134. 143. 153. 151. 147.\n",
      " 149. 140. 140. 144. 137.  98.  52.  31.  32. 190. 195. 191. 205. 203.\n",
      "  39.  37.  36.  49. 103. 114. 106. 127. 128. 124. 116. 133. 133. 131.\n",
      " 144. 140. 144. 144. 145. 141. 114. 129. 116.  47.  36.  74. 191. 193.\n",
      " 205. 207.  44.  33.  38.  46. 105. 127. 121. 114. 110. 117. 121. 114.\n",
      " 115. 120. 119. 123. 125. 138. 143. 153. 152. 121. 126.  70.  30.  41.\n",
      " 191. 191. 208. 199.  35.  29.  35.  68. 103. 131. 123. 115. 109. 114.\n",
      " 128. 120. 120. 124. 116. 122. 118. 132. 137. 143. 155. 148. 133.  90.\n",
      "  45.  47. 193. 189. 207. 152.  39.  39.  53. 112. 130.  63.  44.  35.\n",
      "  49.  57.  58.  90. 132. 131. 134. 122.  89.  80.  42.  45.  54.  81.\n",
      " 138. 119.  38.  45. 169. 190. 208. 132.  45.  52. 124. 135.  63.  81.\n",
      "  74.  58.  64.  76.  79.  85. 102. 119. 124. 109. 100. 102.  86.  86.\n",
      "  82.  65.  76. 122.  49.  41. 196. 191.  70. 123.  41. 117. 130. 123.\n",
      " 102.  85.  37.  69.  27.  50.  73.  84. 107. 138. 148. 129.  91.  50.\n",
      "  46.  32. 111.  68. 100. 118. 137.  53. 188. 191.  60. 121.  54. 130.\n",
      " 134. 133. 116.  99.  94.  60.  31.  95.  56. 122. 134. 150. 155. 167.\n",
      " 138.  68.  27.  29. 142.  75. 122. 144. 154.  48. 151. 136.  81. 110.\n",
      "  46. 131. 148. 155. 147. 143. 136. 116. 112. 116. 135. 138. 136. 163.\n",
      " 165. 151. 154. 123.  93. 119. 132. 144. 155. 161. 156.  77. 141. 152.\n",
      " 133.  72. 130. 134. 154. 161. 145. 155. 146. 142. 147. 143. 153. 139.\n",
      " 142. 169. 172. 163. 168. 166. 158. 148. 159. 163. 170. 166. 153.  95.\n",
      " 165. 179. 107. 139. 107. 139. 142. 153. 158. 163. 152. 139. 134. 132.\n",
      " 127. 136. 146. 159. 161. 165. 158. 171. 162. 168. 171. 186. 186. 176.\n",
      " 159. 101. 156. 195. 140. 138. 125. 127. 138. 137. 145. 144. 133. 121.\n",
      "  93. 129. 114. 116. 110. 120. 146. 150. 179. 166. 148. 161. 167. 178.\n",
      " 167. 169. 157. 164. 119. 193. 127. 129. 124. 120. 132. 131. 126. 128.\n",
      " 125. 106. 107. 114.  66.  95.  81.  76. 113. 112.  90. 119. 127. 141.\n",
      " 154. 154. 163. 166. 144. 159. 148. 193. 208. 209. 201. 131. 121. 129.\n",
      " 127. 121. 115. 102. 128. 124. 115. 121. 108. 115. 119. 133. 141. 158.\n",
      " 154. 136. 151. 157. 156. 155. 146. 158. 165. 193. 207. 207. 207. 162.\n",
      " 126. 124. 126. 116. 110. 112. 117. 111. 125. 131. 135. 129. 138. 145.\n",
      " 135. 145. 149. 140. 142. 151. 150. 137. 166. 196. 196. 196. 209. 208.\n",
      " 208. 206. 118. 112. 116. 120. 111. 103.  95.  91.  66.  57.  54.  58.\n",
      "  78.  89.  88. 139. 132. 135. 149. 147. 140. 133. 197. 197. 195. 195.\n",
      " 209. 209. 208. 213. 116. 123. 120. 119. 111. 105.  81.  33.  28.  31.\n",
      "  27.  26.  20.  18.  17.  98. 127. 141. 150. 145. 137. 198. 197. 197.\n",
      " 199. 194. 208. 209. 209. 209. 107. 112. 114. 112. 115.  98.  88.  57.\n",
      "  51.  75.  76.  96.  76.  26.  32. 113. 125. 140. 142. 133. 151. 198.\n",
      " 198. 198. 196. 195. 209. 208. 207. 207. 117. 105. 108. 112. 111. 108.\n",
      " 104. 104. 108.  74.  85.  90.  57.  82. 110. 141. 138. 134. 134. 127.\n",
      " 187. 200. 199. 198. 198. 196. 210. 209. 214.  70. 110. 103.  88. 107.\n",
      " 112. 111. 104.  89. 133. 127. 126. 117. 120. 143. 121. 137. 133. 133.\n",
      " 119. 134. 194. 199. 198. 196. 197. 196.  63.  56.  59.  41. 118. 105.\n",
      "  88.  89. 100. 107.  99.  89.  81. 107. 121. 106. 124. 111. 126. 136.\n",
      " 135. 111. 123. 133.  83. 166. 197. 197. 196. 197.  54.  51.  47.  48.\n",
      " 117. 112. 102.  76.  90.  95. 101.  91.  77.  57.  54.  66.  98. 115.\n",
      " 123. 120. 103. 118. 130. 137.  63.  68.  37.  76. 200. 197.  40.  39.\n",
      "  45.  43. 125. 116. 106.  87.  82.  73.  84.  89.  93.  85.  84.  80.\n",
      "  99. 112. 117. 116. 125. 134. 144. 143.  59.  64.  59.  69.  64.  53.\n",
      "  28.  36.  43.  42.  49. 120. 109.  93.  94.  83.  83.  52.  66.  67.\n",
      "  89.  92.  91. 102. 121. 126. 135. 142. 141. 152.  56.  62.  58.  60.\n",
      "  61.  69.  30.  46.  34.  41.  37.  46. 100. 103.  87.  75.  80.  81.\n",
      "  69.  55.  70.  96. 116. 123. 123. 124. 126. 136. 143. 115.  52.  55.\n",
      "  52.  47.  64.  61.   1.]\n"
     ]
    },
    {
     "ename": "ValueError",
     "evalue": "cannot reshape array of size 899 into shape (30,30)",
     "output_type": "error",
     "traceback": [
      "\u001b[0;31m---------------------------------------------------------------------------\u001b[0m",
      "\u001b[0;31mValueError\u001b[0m                                Traceback (most recent call last)",
      "\u001b[0;32m<ipython-input-37-73a117e9bec7>\u001b[0m in \u001b[0;36m<module>\u001b[0;34m()\u001b[0m\n\u001b[1;32m      4\u001b[0m \u001b[0mtagPart\u001b[0m\u001b[0;34m=\u001b[0m\u001b[0mX\u001b[0m\u001b[0;34m[\u001b[0m\u001b[0;34m:\u001b[0m\u001b[0;34m,\u001b[0m\u001b[0;34m-\u001b[0m\u001b[0;36m1\u001b[0m\u001b[0;34m]\u001b[0m\u001b[0;34m\u001b[0m\u001b[0m\n\u001b[1;32m      5\u001b[0m \u001b[0mimage1\u001b[0m\u001b[0;34m=\u001b[0m\u001b[0mimagePart\u001b[0m\u001b[0;34m[\u001b[0m\u001b[0;36m0\u001b[0m\u001b[0;34m]\u001b[0m\u001b[0;34m\u001b[0m\u001b[0m\n\u001b[0;32m----> 6\u001b[0;31m \u001b[0mimg\u001b[0m \u001b[0;34m=\u001b[0m \u001b[0mnp\u001b[0m\u001b[0;34m.\u001b[0m\u001b[0mreshape\u001b[0m\u001b[0;34m(\u001b[0m\u001b[0mimage1\u001b[0m\u001b[0;34m,\u001b[0m\u001b[0;34m(\u001b[0m\u001b[0;36m30\u001b[0m\u001b[0;34m,\u001b[0m\u001b[0;36m30\u001b[0m\u001b[0;34m)\u001b[0m\u001b[0;34m)\u001b[0m \u001b[0;31m# convert vectorized data to 24x24 image patches\u001b[0m\u001b[0;34m\u001b[0m\u001b[0m\n\u001b[0m\u001b[1;32m      7\u001b[0m \u001b[0mplt\u001b[0m\u001b[0;34m.\u001b[0m\u001b[0mimshow\u001b[0m\u001b[0;34m(\u001b[0m \u001b[0mimg\u001b[0m \u001b[0;34m,\u001b[0m \u001b[0mcmap\u001b[0m\u001b[0;34m=\u001b[0m\u001b[0;34m\"gray\"\u001b[0m\u001b[0;34m)\u001b[0m\u001b[0;34m\u001b[0m\u001b[0m\n",
      "\u001b[0;32m/anaconda3/lib/python3.7/site-packages/numpy/core/fromnumeric.py\u001b[0m in \u001b[0;36mreshape\u001b[0;34m(a, newshape, order)\u001b[0m\n\u001b[1;32m    277\u001b[0m            [5, 6]])\n\u001b[1;32m    278\u001b[0m     \"\"\"\n\u001b[0;32m--> 279\u001b[0;31m     \u001b[0;32mreturn\u001b[0m \u001b[0m_wrapfunc\u001b[0m\u001b[0;34m(\u001b[0m\u001b[0ma\u001b[0m\u001b[0;34m,\u001b[0m \u001b[0;34m'reshape'\u001b[0m\u001b[0;34m,\u001b[0m \u001b[0mnewshape\u001b[0m\u001b[0;34m,\u001b[0m \u001b[0morder\u001b[0m\u001b[0;34m=\u001b[0m\u001b[0morder\u001b[0m\u001b[0;34m)\u001b[0m\u001b[0;34m\u001b[0m\u001b[0m\n\u001b[0m\u001b[1;32m    280\u001b[0m \u001b[0;34m\u001b[0m\u001b[0m\n\u001b[1;32m    281\u001b[0m \u001b[0;34m\u001b[0m\u001b[0m\n",
      "\u001b[0;32m/anaconda3/lib/python3.7/site-packages/numpy/core/fromnumeric.py\u001b[0m in \u001b[0;36m_wrapfunc\u001b[0;34m(obj, method, *args, **kwds)\u001b[0m\n\u001b[1;32m     49\u001b[0m \u001b[0;32mdef\u001b[0m \u001b[0m_wrapfunc\u001b[0m\u001b[0;34m(\u001b[0m\u001b[0mobj\u001b[0m\u001b[0;34m,\u001b[0m \u001b[0mmethod\u001b[0m\u001b[0;34m,\u001b[0m \u001b[0;34m*\u001b[0m\u001b[0margs\u001b[0m\u001b[0;34m,\u001b[0m \u001b[0;34m**\u001b[0m\u001b[0mkwds\u001b[0m\u001b[0;34m)\u001b[0m\u001b[0;34m:\u001b[0m\u001b[0;34m\u001b[0m\u001b[0m\n\u001b[1;32m     50\u001b[0m     \u001b[0;32mtry\u001b[0m\u001b[0;34m:\u001b[0m\u001b[0;34m\u001b[0m\u001b[0m\n\u001b[0;32m---> 51\u001b[0;31m         \u001b[0;32mreturn\u001b[0m \u001b[0mgetattr\u001b[0m\u001b[0;34m(\u001b[0m\u001b[0mobj\u001b[0m\u001b[0;34m,\u001b[0m \u001b[0mmethod\u001b[0m\u001b[0;34m)\u001b[0m\u001b[0;34m(\u001b[0m\u001b[0;34m*\u001b[0m\u001b[0margs\u001b[0m\u001b[0;34m,\u001b[0m \u001b[0;34m**\u001b[0m\u001b[0mkwds\u001b[0m\u001b[0;34m)\u001b[0m\u001b[0;34m\u001b[0m\u001b[0m\n\u001b[0m\u001b[1;32m     52\u001b[0m \u001b[0;34m\u001b[0m\u001b[0m\n\u001b[1;32m     53\u001b[0m     \u001b[0;31m# An AttributeError occurs if the object does not have\u001b[0m\u001b[0;34m\u001b[0m\u001b[0;34m\u001b[0m\u001b[0m\n",
      "\u001b[0;31mValueError\u001b[0m: cannot reshape array of size 899 into shape (30,30)"
     ]
    }
   ],
   "source": [
    "X=np.genfromtxt(\"/Users/shao/Desktop/facial_expressions-master/imageTxt/wholeFaces.txt\",delimiter=None)\n",
    "print(X[0])\n"
   ]
  },
  {
   "cell_type": "code",
   "execution_count": 38,
   "metadata": {},
   "outputs": [
    {
     "data": {
      "text/plain": [
       "<matplotlib.image.AxesImage at 0x11a83dd30>"
      ]
     },
     "execution_count": 38,
     "metadata": {},
     "output_type": "execute_result"
    },
    {
     "data": {
      "image/png": "[encoded data removed]",
      "text/plain": [
       "<Figure size 432x288 with 1 Axes>"
      ]
     },
     "metadata": {
      "needs_background": "light"
     },
     "output_type": "display_data"
    }
   ],
   "source": [
    "imagePart=X[:,:-1]\n",
    "tagPart=X[:,-1]\n",
    "image1=imagePart[0]\n",
    "img = np.reshape(image1,(30,30)) # convert vectorized data to 24x24 image patches\n",
    "plt.imshow( img , cmap=\"gray\")"
   ]
  },
  {
   "cell_type": "code",
   "execution_count": null,
   "metadata": {},
   "outputs": [],
   "source": []
  }
 ],
 "metadata": {
  "kernelspec": {
   "display_name": "Python 3",
   "language": "python",
   "name": "python3"
  },
  "language_info": {
   "codemirror_mode": {
    "name": "ipython",
    "version": 3
   },
   "file_extension": ".py",
   "mimetype": "text/x-python",
   "name": "python",
   "nbconvert_exporter": "python",
   "pygments_lexer": "ipython3",
   "version": "3.7.0"
  }
 },
 "nbformat": 4,
 "nbformat_minor": 2
}
