{
 "cells": [
  {
   "cell_type": "code",
   "execution_count": 1,
   "metadata": {},
   "outputs": [],
   "source": [
    "from PIL import Image\n",
    "import numpy as np\n",
    "import os\n",
    "import matplotlib.pyplot as plt\n",
    "import matplotlib.pyplot as mping\n",
    "import csv\n",
    "import string"
   ]
  },
  {
   "cell_type": "code",
   "execution_count": 2,
   "metadata": {},
   "outputs": [
    {
     "name": "stdout",
     "output_type": "stream",
     "text": [
      "(13691, 3)\n"
     ]
    }
   ],
   "source": [
    "# anger , surprise, disgust, fear, neutral, happiness\n",
    "\n",
    "\n",
    "#extract the legend.csv to a numpy array\n",
    "csv_file = open('./facial_expressions/data/legend.csv')\n",
    "csv_reader_lines = csv.reader(csv_file)\n",
    "data_PyList=[]\n",
    "for one_line in csv_reader_lines:\n",
    "    data_PyList.append(one_line)\n",
    "array = np.array(data_PyList) \n",
    "print(array.shape)"
   ]
  },
  {
   "cell_type": "code",
   "execution_count": 4,
   "metadata": {},
   "outputs": [
    {
     "ename": "OSError",
     "evalue": "cannot identify image file 'facial_expressions/images/facial-expressions_2868588k.jpg'",
     "output_type": "error",
     "traceback": [
      "\u001b[0;31m---------------------------------------------------------------------------\u001b[0m",
      "\u001b[0;31mOSError\u001b[0m                                   Traceback (most recent call last)",
      "\u001b[0;32m<ipython-input-4-bffc20a32803>\u001b[0m in \u001b[0;36m<module>\u001b[0;34m()\u001b[0m\n\u001b[1;32m      5\u001b[0m \u001b[0;34m\u001b[0m\u001b[0m\n\u001b[1;32m      6\u001b[0m \u001b[0;32mfor\u001b[0m \u001b[0mi\u001b[0m\u001b[0;34m,\u001b[0m\u001b[0mfilename\u001b[0m  \u001b[0;32min\u001b[0m \u001b[0menumerate\u001b[0m\u001b[0;34m(\u001b[0m\u001b[0marray\u001b[0m\u001b[0;34m[\u001b[0m\u001b[0;36m1\u001b[0m\u001b[0;34m:\u001b[0m\u001b[0;34m,\u001b[0m\u001b[0;36m1\u001b[0m\u001b[0;34m]\u001b[0m\u001b[0;34m)\u001b[0m\u001b[0;34m:\u001b[0m\u001b[0;34m\u001b[0m\u001b[0m\n\u001b[0;32m----> 7\u001b[0;31m     \u001b[0mim\u001b[0m \u001b[0;34m=\u001b[0m \u001b[0mImage\u001b[0m\u001b[0;34m.\u001b[0m\u001b[0mopen\u001b[0m\u001b[0;34m(\u001b[0m\u001b[0;34m'facial_expressions/images/'\u001b[0m\u001b[0;34m+\u001b[0m\u001b[0mfilename\u001b[0m\u001b[0;34m)\u001b[0m\u001b[0;34m\u001b[0m\u001b[0m\n\u001b[0m\u001b[1;32m      8\u001b[0m     \u001b[0;31m#iml = im.convert('L')\u001b[0m\u001b[0;34m\u001b[0m\u001b[0;34m\u001b[0m\u001b[0m\n\u001b[1;32m      9\u001b[0m \u001b[0;34m\u001b[0m\u001b[0m\n",
      "\u001b[0;32m~/anaconda3/lib/python3.7/site-packages/PIL/Image.py\u001b[0m in \u001b[0;36mopen\u001b[0;34m(fp, mode)\u001b[0m\n\u001b[1;32m   2620\u001b[0m         \u001b[0mfp\u001b[0m\u001b[0;34m.\u001b[0m\u001b[0mclose\u001b[0m\u001b[0;34m(\u001b[0m\u001b[0;34m)\u001b[0m\u001b[0;34m\u001b[0m\u001b[0m\n\u001b[1;32m   2621\u001b[0m     raise IOError(\"cannot identify image file %r\"\n\u001b[0;32m-> 2622\u001b[0;31m                   % (filename if filename else fp))\n\u001b[0m\u001b[1;32m   2623\u001b[0m \u001b[0;34m\u001b[0m\u001b[0m\n\u001b[1;32m   2624\u001b[0m \u001b[0;31m#\u001b[0m\u001b[0;34m\u001b[0m\u001b[0;34m\u001b[0m\u001b[0m\n",
      "\u001b[0;31mOSError\u001b[0m: cannot identify image file 'facial_expressions/images/facial-expressions_2868588k.jpg'"
     ]
    }
   ],
   "source": [
    "#transform images to txt with the legend\n",
    "#for filename in os.listdir(r\"./facial_expressions-master/images/\"):\n",
    "im_array =[]\n",
    "legend_array=np.zeros([array.shape[0]])\n",
    "\n",
    "for i,filename  in enumerate(array[1:,1]):\n",
    "    im = Image.open('facial_expressions/images/'+filename)\n",
    "    #iml = im.convert('L')\n",
    "    \n",
    "    #print(np.array(iml).shape)\n",
    "    \n",
    "    #im_array.append( np.ndarray.tolist(np.array(iml)))\n",
    "    array[i+1][2]=array[i+1][2].lower()\n",
    "    \n",
    "    if array[i+1][2]=='anger':\n",
    "        legend_array[i]= 1\n",
    "    elif array[i+1][2]=='surprise':\n",
    "        legend_array[i]=2\n",
    "    elif array[i+1][2]=='disgust':\n",
    "        legend_array[i]=3\n",
    "    elif array[i+1][2]=='fear':\n",
    "        legend_array[i]=4\n",
    "    elif array[i+1][2]=='neutral':\n",
    "        legend_array[i]=5\n",
    "    elif array[i+1][2]=='happiness':\n",
    "        legend_array[i]=6\n",
    "\n",
    "#np.savetxt('data.txt',im_array,fmt='%s')\n",
    "np.savetxt('legend.txt',legend_array,fmt=\"%d\")"
   ]
  },
  {
   "cell_type": "code",
   "execution_count": null,
   "metadata": {},
   "outputs": [],
   "source": [
    "file=open('data.txt','w')\n",
    "file.write(str(im_array))\n",
    "#np.savetxt('data.txt',im_array,fmt='%s')\n",
    "print(array[i][2])"
   ]
  },
  {
   "cell_type": "code",
   "execution_count": null,
   "metadata": {},
   "outputs": [],
   "source": [
    "im_list = np.ndarray.tolist(im_array)\n",
    "print(im_list)\n",
    "np.savetxt('data.txt',im_list,fmt='%s')"
   ]
  },
  {
   "cell_type": "code",
   "execution_count": null,
   "metadata": {},
   "outputs": [],
   "source": [
    "X=np.genfromtxt(\"data.txt\",delimiter=None)\n",
    "print(X[0].shape)"
   ]
  },
  {
   "cell_type": "code",
   "execution_count": null,
   "metadata": {},
   "outputs": [],
   "source": [
    "img = np.reshape(X[0],(350,350))\n",
    "plt.imshow(img,cmap=\"gray\")\n",
    "plt.show()"
   ]
  },
  {
   "cell_type": "code",
   "execution_count": null,
   "metadata": {},
   "outputs": [],
   "source": []
  },
  {
   "cell_type": "code",
   "execution_count": null,
   "metadata": {},
   "outputs": [],
   "source": []
  }
 ],
 "metadata": {
  "kernelspec": {
   "display_name": "Python 3",
   "language": "python",
   "name": "python3"
  },
  "language_info": {
   "codemirror_mode": {
    "name": "ipython",
    "version": 3
   },
   "file_extension": ".py",
   "mimetype": "text/x-python",
   "name": "python",
   "nbconvert_exporter": "python",
   "pygments_lexer": "ipython3",
   "version": "3.7.0"
  }
 },
 "nbformat": 4,
 "nbformat_minor": 2
}
